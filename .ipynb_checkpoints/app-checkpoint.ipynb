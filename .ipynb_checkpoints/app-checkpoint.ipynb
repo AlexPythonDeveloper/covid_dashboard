{
 "cells": [
  {
   "cell_type": "code",
   "execution_count": 1,
   "id": "4e1fee6b",
   "metadata": {},
   "outputs": [],
   "source": [
    "# import libraries\n",
    "import pandas as pd\n",
    "import matplotlib.pyplot as plt\n",
    "import datetime"
   ]
  },
  {
   "cell_type": "markdown",
   "id": "147a068a",
   "metadata": {},
   "source": [
    "load the death, confirmed and recovered data to separate dataframes from the url:"
   ]
  },
  {
   "cell_type": "markdown",
   "id": "74d54cbc",
   "metadata": {},
   "source": [
    "https://github.com/CSSEGISandData/COVID-19/tree/master/csse_covid_19_data/csse_covid_19_time_series"
   ]
  },
  {
   "cell_type": "code",
   "execution_count": 2,
   "id": "78195fcc",
   "metadata": {},
   "outputs": [],
   "source": [
    "confirmed_df = pd.read_csv('https://raw.githubusercontent.com/CSSEGISandData/COVID-19/master/csse_covid_19_data/csse_covid_19_time_series/time_series_covid19_confirmed_global.csv')\n",
    "recovered_df =  pd.read_csv('https://raw.githubusercontent.com/CSSEGISandData/COVID-19/master/csse_covid_19_data/csse_covid_19_time_series/time_series_covid19_recovered_global.csv')\n",
    "death_df = pd.read_csv('https://raw.githubusercontent.com/CSSEGISandData/COVID-19/master/csse_covid_19_data/csse_covid_19_time_series/time_series_covid19_deaths_global.csv')\n"
   ]
  },
  {
   "cell_type": "markdown",
   "id": "e8c199b7",
   "metadata": {},
   "source": [
    "get the number of records and columns in each dataframes"
   ]
  },
  {
   "cell_type": "code",
   "execution_count": 3,
   "id": "efacc787",
   "metadata": {},
   "outputs": [
    {
     "data": {
      "text/plain": [
       "(280, 710)"
      ]
     },
     "execution_count": 3,
     "metadata": {},
     "output_type": "execute_result"
    }
   ],
   "source": [
    "confirmed_df.shape"
   ]
  },
  {
   "cell_type": "code",
   "execution_count": 4,
   "id": "da705cde",
   "metadata": {},
   "outputs": [
    {
     "data": {
      "text/plain": [
       "(265, 710)"
      ]
     },
     "execution_count": 4,
     "metadata": {},
     "output_type": "execute_result"
    }
   ],
   "source": [
    "recovered_df.shape"
   ]
  },
  {
   "cell_type": "code",
   "execution_count": 5,
   "id": "712ca29e",
   "metadata": {},
   "outputs": [
    {
     "data": {
      "text/plain": [
       "(280, 710)"
      ]
     },
     "execution_count": 5,
     "metadata": {},
     "output_type": "execute_result"
    }
   ],
   "source": [
    "death_df.shape"
   ]
  },
  {
   "cell_type": "markdown",
   "id": "cac0c2d0",
   "metadata": {},
   "source": [
    "Rename column names in all dataframes"
   ]
  },
  {
   "cell_type": "code",
   "execution_count": 6,
   "id": "7ae2431a",
   "metadata": {},
   "outputs": [],
   "source": [
    "confirmed_df.rename(columns={'Province/State':'state', 'Country/Region':'country'}, inplace=True)\n",
    "recovered_df.rename(columns={'Province/State':'state', 'Country/Region':'country'}, inplace=True)\n",
    "death_df.rename(columns={'Province/State':'state', 'Country/Region':'country'}, inplace=True)"
   ]
  },
  {
   "cell_type": "markdown",
   "id": "6d8bb462",
   "metadata": {},
   "source": [
    "Drop unwanted columns"
   ]
  },
  {
   "cell_type": "code",
   "execution_count": 7,
   "id": "b31763a0",
   "metadata": {},
   "outputs": [],
   "source": [
    "confirmed_df.drop(columns=['state','Lat', 'Long'],inplace=True)\n",
    "recovered_df.drop(columns=['state','Lat', 'Long'],inplace=True)\n",
    "death_df.drop(columns=['state','Lat', 'Long'],inplace=True)"
   ]
  },
  {
   "cell_type": "markdown",
   "id": "22425bbc",
   "metadata": {},
   "source": [
    "getting the date columns "
   ]
  },
  {
   "cell_type": "code",
   "execution_count": 8,
   "id": "07c3c102",
   "metadata": {},
   "outputs": [],
   "source": [
    "date_cols = confirmed_df.columns[1:]"
   ]
  },
  {
   "cell_type": "markdown",
   "id": "b3bfad80",
   "metadata": {},
   "source": [
    "transposing the count of cases , which is stored as columns for each date , to rows. This helps in data visulatization"
   ]
  },
  {
   "cell_type": "code",
   "execution_count": 9,
   "id": "3d4969c0",
   "metadata": {},
   "outputs": [],
   "source": [
    "confirmed_df_new = pd.DataFrame()\n",
    "recovered_df_new = pd.DataFrame()\n",
    "death_df_new = pd.DataFrame()\n",
    "\n",
    "temp_df = pd.DataFrame()\n",
    "\n",
    "for dt in date_cols:\n",
    "    cols = list(['country', dt])\n",
    "    temp_df = confirmed_df[cols].copy()\n",
    "    temp_df.columns = ['country', 'count']\n",
    "    temp_df['dates'] = datetime.datetime.strptime(dt, \"%m/%d/%y\").strftime(\"%Y/%m/%d\")\n",
    "    confirmed_df_new = confirmed_df_new.append(temp_df, ignore_index=False)\n",
    "\n",
    "for dt in date_cols:\n",
    "    cols = list(['country', dt])\n",
    "    temp_df = recovered_df[cols].copy()\n",
    "    temp_df.columns = ['country', 'count']\n",
    "    temp_df['dates'] = datetime.datetime.strptime(dt, \"%m/%d/%y\").strftime(\"%Y/%m/%d\")\n",
    "    recovered_df_new = recovered_df_new.append(temp_df, ignore_index=False)\n",
    "\n",
    "for dt in date_cols:\n",
    "    cols = list(['country', dt])\n",
    "    temp_df = death_df[cols].copy()\n",
    "    temp_df.columns = ['country', 'count']\n",
    "    temp_df['dates'] = datetime.datetime.strptime(dt, \"%m/%d/%y\").strftime(\"%Y/%m/%d\")\n",
    "    death_df_new = death_df_new.append(temp_df, ignore_index=False)\n",
    "\n",
    "confirmed_df_new.reset_index(drop=True, inplace=True)\n",
    "recovered_df_new.reset_index(drop=True, inplace=True)\n",
    "death_df_new.reset_index(drop=True, inplace=True)"
   ]
  },
  {
   "cell_type": "code",
   "execution_count": 10,
   "id": "9558f7a5",
   "metadata": {},
   "outputs": [
    {
     "data": {
      "text/html": [
       "<div>\n",
       "<style scoped>\n",
       "    .dataframe tbody tr th:only-of-type {\n",
       "        vertical-align: middle;\n",
       "    }\n",
       "\n",
       "    .dataframe tbody tr th {\n",
       "        vertical-align: top;\n",
       "    }\n",
       "\n",
       "    .dataframe thead th {\n",
       "        text-align: right;\n",
       "    }\n",
       "</style>\n",
       "<table border=\"1\" class=\"dataframe\">\n",
       "  <thead>\n",
       "    <tr style=\"text-align: right;\">\n",
       "      <th></th>\n",
       "      <th>country</th>\n",
       "      <th>count</th>\n",
       "      <th>dates</th>\n",
       "    </tr>\n",
       "  </thead>\n",
       "  <tbody>\n",
       "    <tr>\n",
       "      <th>0</th>\n",
       "      <td>Afghanistan</td>\n",
       "      <td>0</td>\n",
       "      <td>2020/01/22</td>\n",
       "    </tr>\n",
       "    <tr>\n",
       "      <th>1</th>\n",
       "      <td>Albania</td>\n",
       "      <td>0</td>\n",
       "      <td>2020/01/22</td>\n",
       "    </tr>\n",
       "    <tr>\n",
       "      <th>2</th>\n",
       "      <td>Algeria</td>\n",
       "      <td>0</td>\n",
       "      <td>2020/01/22</td>\n",
       "    </tr>\n",
       "    <tr>\n",
       "      <th>3</th>\n",
       "      <td>Andorra</td>\n",
       "      <td>0</td>\n",
       "      <td>2020/01/22</td>\n",
       "    </tr>\n",
       "    <tr>\n",
       "      <th>4</th>\n",
       "      <td>Angola</td>\n",
       "      <td>0</td>\n",
       "      <td>2020/01/22</td>\n",
       "    </tr>\n",
       "  </tbody>\n",
       "</table>\n",
       "</div>"
      ],
      "text/plain": [
       "       country  count       dates\n",
       "0  Afghanistan      0  2020/01/22\n",
       "1      Albania      0  2020/01/22\n",
       "2      Algeria      0  2020/01/22\n",
       "3      Andorra      0  2020/01/22\n",
       "4       Angola      0  2020/01/22"
      ]
     },
     "execution_count": 10,
     "metadata": {},
     "output_type": "execute_result"
    }
   ],
   "source": [
    "confirmed_df_new.head()"
   ]
  },
  {
   "cell_type": "markdown",
   "id": "aee3c27e",
   "metadata": {},
   "source": [
    "aggregating the data at country-date level "
   ]
  },
  {
   "cell_type": "code",
   "execution_count": 11,
   "id": "2d92694f",
   "metadata": {},
   "outputs": [],
   "source": [
    "confirmed_df_new = confirmed_df_new.groupby(['country','dates']).sum()\n",
    "recovered_df_new = recovered_df_new.groupby(['country','dates']).sum()\n",
    "death_df_new = death_df_new.groupby(['country','dates']).sum()"
   ]
  },
  {
   "cell_type": "code",
   "execution_count": 12,
   "id": "1db6bb9e",
   "metadata": {},
   "outputs": [
    {
     "data": {
      "text/html": [
       "<div>\n",
       "<style scoped>\n",
       "    .dataframe tbody tr th:only-of-type {\n",
       "        vertical-align: middle;\n",
       "    }\n",
       "\n",
       "    .dataframe tbody tr th {\n",
       "        vertical-align: top;\n",
       "    }\n",
       "\n",
       "    .dataframe thead th {\n",
       "        text-align: right;\n",
       "    }\n",
       "</style>\n",
       "<table border=\"1\" class=\"dataframe\">\n",
       "  <thead>\n",
       "    <tr style=\"text-align: right;\">\n",
       "      <th></th>\n",
       "      <th></th>\n",
       "      <th>count</th>\n",
       "    </tr>\n",
       "    <tr>\n",
       "      <th>country</th>\n",
       "      <th>dates</th>\n",
       "      <th></th>\n",
       "    </tr>\n",
       "  </thead>\n",
       "  <tbody>\n",
       "    <tr>\n",
       "      <th rowspan=\"5\" valign=\"top\">Afghanistan</th>\n",
       "      <th>2020/01/22</th>\n",
       "      <td>0</td>\n",
       "    </tr>\n",
       "    <tr>\n",
       "      <th>2020/01/23</th>\n",
       "      <td>0</td>\n",
       "    </tr>\n",
       "    <tr>\n",
       "      <th>2020/01/24</th>\n",
       "      <td>0</td>\n",
       "    </tr>\n",
       "    <tr>\n",
       "      <th>2020/01/25</th>\n",
       "      <td>0</td>\n",
       "    </tr>\n",
       "    <tr>\n",
       "      <th>2020/01/26</th>\n",
       "      <td>0</td>\n",
       "    </tr>\n",
       "  </tbody>\n",
       "</table>\n",
       "</div>"
      ],
      "text/plain": [
       "                        count\n",
       "country     dates            \n",
       "Afghanistan 2020/01/22      0\n",
       "            2020/01/23      0\n",
       "            2020/01/24      0\n",
       "            2020/01/25      0\n",
       "            2020/01/26      0"
      ]
     },
     "execution_count": 12,
     "metadata": {},
     "output_type": "execute_result"
    }
   ],
   "source": [
    "confirmed_df_new.head()"
   ]
  },
  {
   "cell_type": "markdown",
   "id": "48891920",
   "metadata": {},
   "source": [
    "resetting the index"
   ]
  },
  {
   "cell_type": "code",
   "execution_count": 13,
   "id": "c027aeda",
   "metadata": {},
   "outputs": [],
   "source": [
    "confirmed_df_new.reset_index(inplace=True)\n",
    "recovered_df_new.reset_index(inplace=True)\n",
    "death_df_new.reset_index(inplace=True)"
   ]
  },
  {
   "cell_type": "code",
   "execution_count": 14,
   "id": "53a3a54b",
   "metadata": {},
   "outputs": [
    {
     "data": {
      "text/html": [
       "<div>\n",
       "<style scoped>\n",
       "    .dataframe tbody tr th:only-of-type {\n",
       "        vertical-align: middle;\n",
       "    }\n",
       "\n",
       "    .dataframe tbody tr th {\n",
       "        vertical-align: top;\n",
       "    }\n",
       "\n",
       "    .dataframe thead th {\n",
       "        text-align: right;\n",
       "    }\n",
       "</style>\n",
       "<table border=\"1\" class=\"dataframe\">\n",
       "  <thead>\n",
       "    <tr style=\"text-align: right;\">\n",
       "      <th></th>\n",
       "      <th>country</th>\n",
       "      <th>dates</th>\n",
       "      <th>count</th>\n",
       "    </tr>\n",
       "  </thead>\n",
       "  <tbody>\n",
       "    <tr>\n",
       "      <th>0</th>\n",
       "      <td>Afghanistan</td>\n",
       "      <td>2020/01/22</td>\n",
       "      <td>0</td>\n",
       "    </tr>\n",
       "    <tr>\n",
       "      <th>1</th>\n",
       "      <td>Afghanistan</td>\n",
       "      <td>2020/01/23</td>\n",
       "      <td>0</td>\n",
       "    </tr>\n",
       "    <tr>\n",
       "      <th>2</th>\n",
       "      <td>Afghanistan</td>\n",
       "      <td>2020/01/24</td>\n",
       "      <td>0</td>\n",
       "    </tr>\n",
       "    <tr>\n",
       "      <th>3</th>\n",
       "      <td>Afghanistan</td>\n",
       "      <td>2020/01/25</td>\n",
       "      <td>0</td>\n",
       "    </tr>\n",
       "    <tr>\n",
       "      <th>4</th>\n",
       "      <td>Afghanistan</td>\n",
       "      <td>2020/01/26</td>\n",
       "      <td>0</td>\n",
       "    </tr>\n",
       "  </tbody>\n",
       "</table>\n",
       "</div>"
      ],
      "text/plain": [
       "       country       dates  count\n",
       "0  Afghanistan  2020/01/22      0\n",
       "1  Afghanistan  2020/01/23      0\n",
       "2  Afghanistan  2020/01/24      0\n",
       "3  Afghanistan  2020/01/25      0\n",
       "4  Afghanistan  2020/01/26      0"
      ]
     },
     "execution_count": 14,
     "metadata": {},
     "output_type": "execute_result"
    }
   ],
   "source": [
    "confirmed_df_new.head()"
   ]
  },
  {
   "cell_type": "markdown",
   "id": "81f32a47",
   "metadata": {},
   "source": [
    "Find the number of rows in each dataframe"
   ]
  },
  {
   "cell_type": "code",
   "execution_count": 15,
   "id": "4d79db94",
   "metadata": {},
   "outputs": [
    {
     "name": "stdout",
     "output_type": "stream",
     "text": [
      "(138376, 3)\n",
      "(138376, 3)\n",
      "(138376, 3)\n"
     ]
    }
   ],
   "source": [
    "print(confirmed_df_new.shape)\n",
    "print(recovered_df_new.shape)\n",
    "print(death_df_new.shape)"
   ]
  },
  {
   "cell_type": "markdown",
   "id": "9f9d8ec0",
   "metadata": {},
   "source": [
    "Merge the 3 dataframes into a single dataframe"
   ]
  },
  {
   "cell_type": "code",
   "execution_count": 16,
   "id": "7d216955",
   "metadata": {},
   "outputs": [
    {
     "data": {
      "text/plain": [
       "(138376, 5)"
      ]
     },
     "execution_count": 16,
     "metadata": {},
     "output_type": "execute_result"
    }
   ],
   "source": [
    "covid_df = pd.merge(pd.merge(confirmed_df_new,recovered_df_new,on=['country','dates']),death_df_new,on=['country','dates'])\n",
    "covid_df.columns=['country','dates','confirmed','recovered','death']\n",
    "covid_df.shape"
   ]
  },
  {
   "cell_type": "markdown",
   "id": "15fda27b",
   "metadata": {},
   "source": [
    "Find the active covid cases"
   ]
  },
  {
   "cell_type": "code",
   "execution_count": 17,
   "id": "a8e6b0c9",
   "metadata": {},
   "outputs": [],
   "source": [
    "covid_df['active'] = covid_df['confirmed'] - covid_df['recovered'] - covid_df['death']"
   ]
  },
  {
   "cell_type": "markdown",
   "id": "bfac9e59",
   "metadata": {},
   "source": [
    "Calculate case-fatality_ratio ( number of deaths per 100 COVID-19 confirmed cases.)"
   ]
  },
  {
   "cell_type": "code",
   "execution_count": 18,
   "id": "35d39efc",
   "metadata": {},
   "outputs": [],
   "source": [
    "covid_df['case_fatality_ratio'] = round(covid_df['death']/(covid_df['confirmed']/100))"
   ]
  },
  {
   "cell_type": "code",
   "execution_count": 19,
   "id": "8843f078",
   "metadata": {},
   "outputs": [
    {
     "data": {
      "text/html": [
       "<div>\n",
       "<style scoped>\n",
       "    .dataframe tbody tr th:only-of-type {\n",
       "        vertical-align: middle;\n",
       "    }\n",
       "\n",
       "    .dataframe tbody tr th {\n",
       "        vertical-align: top;\n",
       "    }\n",
       "\n",
       "    .dataframe thead th {\n",
       "        text-align: right;\n",
       "    }\n",
       "</style>\n",
       "<table border=\"1\" class=\"dataframe\">\n",
       "  <thead>\n",
       "    <tr style=\"text-align: right;\">\n",
       "      <th></th>\n",
       "      <th>country</th>\n",
       "      <th>dates</th>\n",
       "      <th>confirmed</th>\n",
       "      <th>recovered</th>\n",
       "      <th>death</th>\n",
       "      <th>active</th>\n",
       "      <th>case_fatality_ratio</th>\n",
       "    </tr>\n",
       "  </thead>\n",
       "  <tbody>\n",
       "    <tr>\n",
       "      <th>0</th>\n",
       "      <td>Afghanistan</td>\n",
       "      <td>2020/01/22</td>\n",
       "      <td>0</td>\n",
       "      <td>0</td>\n",
       "      <td>0</td>\n",
       "      <td>0</td>\n",
       "      <td>NaN</td>\n",
       "    </tr>\n",
       "    <tr>\n",
       "      <th>1</th>\n",
       "      <td>Afghanistan</td>\n",
       "      <td>2020/01/23</td>\n",
       "      <td>0</td>\n",
       "      <td>0</td>\n",
       "      <td>0</td>\n",
       "      <td>0</td>\n",
       "      <td>NaN</td>\n",
       "    </tr>\n",
       "    <tr>\n",
       "      <th>2</th>\n",
       "      <td>Afghanistan</td>\n",
       "      <td>2020/01/24</td>\n",
       "      <td>0</td>\n",
       "      <td>0</td>\n",
       "      <td>0</td>\n",
       "      <td>0</td>\n",
       "      <td>NaN</td>\n",
       "    </tr>\n",
       "    <tr>\n",
       "      <th>3</th>\n",
       "      <td>Afghanistan</td>\n",
       "      <td>2020/01/25</td>\n",
       "      <td>0</td>\n",
       "      <td>0</td>\n",
       "      <td>0</td>\n",
       "      <td>0</td>\n",
       "      <td>NaN</td>\n",
       "    </tr>\n",
       "    <tr>\n",
       "      <th>4</th>\n",
       "      <td>Afghanistan</td>\n",
       "      <td>2020/01/26</td>\n",
       "      <td>0</td>\n",
       "      <td>0</td>\n",
       "      <td>0</td>\n",
       "      <td>0</td>\n",
       "      <td>NaN</td>\n",
       "    </tr>\n",
       "  </tbody>\n",
       "</table>\n",
       "</div>"
      ],
      "text/plain": [
       "       country       dates  confirmed  recovered  death  active  \\\n",
       "0  Afghanistan  2020/01/22          0          0      0       0   \n",
       "1  Afghanistan  2020/01/23          0          0      0       0   \n",
       "2  Afghanistan  2020/01/24          0          0      0       0   \n",
       "3  Afghanistan  2020/01/25          0          0      0       0   \n",
       "4  Afghanistan  2020/01/26          0          0      0       0   \n",
       "\n",
       "   case_fatality_ratio  \n",
       "0                  NaN  \n",
       "1                  NaN  \n",
       "2                  NaN  \n",
       "3                  NaN  \n",
       "4                  NaN  "
      ]
     },
     "execution_count": 19,
     "metadata": {},
     "output_type": "execute_result"
    }
   ],
   "source": [
    "covid_df.head()"
   ]
  },
  {
   "cell_type": "code",
   "execution_count": 22,
   "id": "1be3e660",
   "metadata": {},
   "outputs": [
    {
     "data": {
      "text/html": [
       "\n",
       "        <iframe\n",
       "            width=\"100%\"\n",
       "            height=\"650\"\n",
       "            src=\"http://127.0.0.1:8050/\"\n",
       "            frameborder=\"0\"\n",
       "            allowfullscreen\n",
       "        ></iframe>\n",
       "        "
      ],
      "text/plain": [
       "<IPython.lib.display.IFrame at 0x1c9bbbb4160>"
      ]
     },
     "metadata": {},
     "output_type": "display_data"
    }
   ],
   "source": [
    "import dash\n",
    "from dash.dependencies import Output, Input\n",
    "from dash import dcc\n",
    "from dash import html\n",
    "import plotly.express as px\n",
    "import pandas as pd\n",
    "from jupyter_dash import JupyterDash\n",
    "\n",
    "app = JupyterDash(__name__)\n",
    "server = app.server\n",
    "\n",
    "colors = {\n",
    "    'background': '#FFFFFF',\n",
    "    'text': '#7FDBFF'\n",
    "}\n",
    "\n",
    "\n",
    "# Defining App Layout\n",
    "\n",
    "app.layout = html.Div(style={'backgroundColor': colors['background']}, children=[\n",
    "    html.H1('COVID - 19 ', style={'textAlign':'center'}),\n",
    "        html.Div([\n",
    "            html.Div([\n",
    "                html.Label('Date'),\n",
    "                dcc.Dropdown(\n",
    "                    id='dates_dropdown',\n",
    "                    options=[{'label': i, 'value': i} for i in covid_df.dates.unique()],\n",
    "                    value=covid_df.dates.max()\n",
    "                    )\n",
    "                ]),\n",
    "        html.Div([\n",
    "            html.Label('Interest Variable'),\n",
    "                dcc.Dropdown(\n",
    "                    id='interest-variable',\n",
    "                    options=[{'label': 'Total Active', 'value':'active'},\n",
    "                        {'label': 'Total Deaths', 'value':'death'},\n",
    "                        {'label': 'Total Recovered', 'value':'recovered'}],\n",
    "                    value='active'\n",
    "                )\n",
    "            ])\n",
    "    ], style = {'width':'50%','margin':'auto'}),\n",
    "    html.Div([\n",
    "        dcc.Graph(\n",
    "            id='confirmed_Vs_others',\n",
    "            ),\n",
    "        html.Div(\n",
    "            dcc.Graph(\n",
    "                id='cases_per_country',\n",
    "            )\n",
    "            , style={'width': '90%', 'display': 'inline-block'})\n",
    "    ], style = {'width':'90%','margin':'auto'})\n",
    "])\n",
    "\n",
    "@app.callback(Output('confirmed_Vs_others', 'figure'),\n",
    "            [Input('dates_dropdown', 'value'),\n",
    "            Input('interest-variable', 'value')])\n",
    "def update_scatter(selected_pop, interest_var):\n",
    "    sorted = covid_df[covid_df.dates == selected_pop]\n",
    "    fig = px.scatter(sorted,\n",
    "        x=sorted.confirmed,\n",
    "        y=sorted[interest_var],\n",
    "        size='confirmed',\n",
    "        color='country',\n",
    "        hover_name='country',\n",
    "        template='plotly_white',\n",
    "        labels={'y':interest_var,\n",
    "                'x': 'confirmed'},\n",
    "        title='confirmed Vs ' + interest_var)\n",
    "    fig.update_layout(transition_duration=500)\n",
    "    return fig\n",
    "\n",
    "@app.callback(Output('cases_per_country', 'figure'),\n",
    "              [Input('dates_dropdown', 'value'),\n",
    "               Input('interest-variable', 'value')])\n",
    "def update_country_bar(selected_pop, interest_var):\n",
    "    sorted = covid_df[covid_df.dates == selected_pop]\n",
    "    fig = px.bar(sorted,\n",
    "        x='country',\n",
    "        y=interest_var,\n",
    "        color='case_fatality_ratio',\n",
    "        template='plotly_white',\n",
    "        labels={'country':'Country',\n",
    "            'confirmed':'Total Confirmed',\n",
    "            'active':'Total Active',\n",
    "            'deaths':'Total death',\n",
    "            'recovered':'Total Recovered'},\n",
    "            title='Total Cases per Country')\n",
    "\n",
    "    fig.update_layout()\n",
    "    return fig\n",
    "\n",
    "\n",
    "if __name__ == '__main__':\n",
    "    app.run_server(mode='inline')\n"
   ]
  },
  {
   "cell_type": "code",
   "execution_count": null,
   "id": "d047e50b",
   "metadata": {},
   "outputs": [],
   "source": []
  }
 ],
 "metadata": {
  "kernelspec": {
   "display_name": "Python 3",
   "language": "python",
   "name": "python3"
  },
  "language_info": {
   "codemirror_mode": {
    "name": "ipython",
    "version": 3
   },
   "file_extension": ".py",
   "mimetype": "text/x-python",
   "name": "python",
   "nbconvert_exporter": "python",
   "pygments_lexer": "ipython3",
   "version": "3.8.8"
  }
 },
 "nbformat": 4,
 "nbformat_minor": 5
}
